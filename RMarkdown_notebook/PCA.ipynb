{
 "cells": [
  {
   "cell_type": "markdown",
   "id": "965b986e-d3d6-4a3a-be99-2c831cf684ce",
   "metadata": {},
   "source": [
    "## Principal Components Analysis"
   ]
  },
  {
   "cell_type": "code",
   "execution_count": 1,
   "id": "2832b07d-67e9-411f-9f9b-d94399b8d51f",
   "metadata": {},
   "outputs": [],
   "source": [
    "options(warn = -1)\n",
    "knitr::opts_chunk$set(message = FALSE, warning = FALSE)  "
   ]
  },
  {
   "cell_type": "code",
   "execution_count": 6,
   "id": "dcd713dd-0abd-4394-9bd1-c53aa48a9f09",
   "metadata": {
    "scrolled": true
   },
   "outputs": [],
   "source": [
    "library(tidyverse)"
   ]
  },
  {
   "cell_type": "code",
   "execution_count": 8,
   "id": "a494810d-b907-4f4b-ab9f-c62cad0e2d55",
   "metadata": {},
   "outputs": [
    {
     "name": "stdout",
     "output_type": "stream",
     "text": [
      "Rows: 50\n",
      "Columns: 4\n",
      "$ Murder   \u001b[3m\u001b[90m<dbl>\u001b[39m\u001b[23m 13.2, 10.0, 8.1, 8.8, 9.0, 7.9, 3.3, 5.9, 15.4, 17.4, 5.3, 2.…\n",
      "$ Assault  \u001b[3m\u001b[90m<int>\u001b[39m\u001b[23m 236, 263, 294, 190, 276, 204, 110, 238, 335, 211, 46, 120, 24…\n",
      "$ UrbanPop \u001b[3m\u001b[90m<int>\u001b[39m\u001b[23m 58, 48, 80, 50, 91, 78, 77, 72, 80, 60, 83, 54, 83, 65, 57, 6…\n",
      "$ Rape     \u001b[3m\u001b[90m<dbl>\u001b[39m\u001b[23m 21.2, 44.5, 31.0, 19.5, 40.6, 38.7, 11.1, 15.8, 31.9, 25.8, 2…\n"
     ]
    }
   ],
   "source": [
    "glimpse(USArrests)"
   ]
  },
  {
   "cell_type": "code",
   "execution_count": 10,
   "id": "bd497f19-7520-4b4b-a7d3-808e0afaf58f",
   "metadata": {},
   "outputs": [
    {
     "data": {
      "text/plain": [
       "     Murder          Assault         UrbanPop          Rape      \n",
       " Min.   : 0.800   Min.   : 45.0   Min.   :32.00   Min.   : 7.30  \n",
       " 1st Qu.: 4.075   1st Qu.:109.0   1st Qu.:54.50   1st Qu.:15.07  \n",
       " Median : 7.250   Median :159.0   Median :66.00   Median :20.10  \n",
       " Mean   : 7.788   Mean   :170.8   Mean   :65.54   Mean   :21.23  \n",
       " 3rd Qu.:11.250   3rd Qu.:249.0   3rd Qu.:77.75   3rd Qu.:26.18  \n",
       " Max.   :17.400   Max.   :337.0   Max.   :91.00   Max.   :46.00  "
      ]
     },
     "metadata": {},
     "output_type": "display_data"
    }
   ],
   "source": [
    "# very different means for all the columns \n",
    "summary(USArrests)"
   ]
  },
  {
   "cell_type": "code",
   "execution_count": 11,
   "id": "9352a79f-21c8-47fc-8962-86591a90db27",
   "metadata": {},
   "outputs": [
    {
     "data": {
      "text/html": [
       "<style>\n",
       ".dl-inline {width: auto; margin:0; padding: 0}\n",
       ".dl-inline>dt, .dl-inline>dd {float: none; width: auto; display: inline-block}\n",
       ".dl-inline>dt::after {content: \":\\0020\"; padding-right: .5ex}\n",
       ".dl-inline>dt:not(:first-of-type) {padding-left: .5ex}\n",
       "</style><dl class=dl-inline><dt>Murder</dt><dd>18.9704653061224</dd><dt>Assault</dt><dd>6945.16571428572</dd><dt>UrbanPop</dt><dd>209.518775510204</dd><dt>Rape</dt><dd>87.7291591836735</dd></dl>\n"
      ],
      "text/latex": [
       "\\begin{description*}\n",
       "\\item[Murder] 18.9704653061224\n",
       "\\item[Assault] 6945.16571428572\n",
       "\\item[UrbanPop] 209.518775510204\n",
       "\\item[Rape] 87.7291591836735\n",
       "\\end{description*}\n"
      ],
      "text/markdown": [
       "Murder\n",
       ":   18.9704653061224Assault\n",
       ":   6945.16571428572UrbanPop\n",
       ":   209.518775510204Rape\n",
       ":   87.7291591836735\n",
       "\n"
      ],
      "text/plain": [
       "    Murder    Assault   UrbanPop       Rape \n",
       "  18.97047 6945.16571  209.51878   87.72916 "
      ]
     },
     "metadata": {},
     "output_type": "display_data"
    },
    {
     "data": {
      "text/html": [
       "<style>\n",
       ".list-inline {list-style: none; margin:0; padding: 0}\n",
       ".list-inline>li {display: inline-block}\n",
       ".list-inline>li:not(:last-child)::after {content: \"\\00b7\"; padding: 0 .5ex}\n",
       "</style>\n",
       "<ol class=list-inline><li>'sdev'</li><li>'rotation'</li><li>'center'</li><li>'scale'</li><li>'x'</li></ol>\n"
      ],
      "text/latex": [
       "\\begin{enumerate*}\n",
       "\\item 'sdev'\n",
       "\\item 'rotation'\n",
       "\\item 'center'\n",
       "\\item 'scale'\n",
       "\\item 'x'\n",
       "\\end{enumerate*}\n"
      ],
      "text/markdown": [
       "1. 'sdev'\n",
       "2. 'rotation'\n",
       "3. 'center'\n",
       "4. 'scale'\n",
       "5. 'x'\n",
       "\n",
       "\n"
      ],
      "text/plain": [
       "[1] \"sdev\"     \"rotation\" \"center\"   \"scale\"    \"x\"       "
      ]
     },
     "metadata": {},
     "output_type": "display_data"
    },
    {
     "data": {
      "text/html": [
       "<style>\n",
       ".dl-inline {width: auto; margin:0; padding: 0}\n",
       ".dl-inline>dt, .dl-inline>dd {float: none; width: auto; display: inline-block}\n",
       ".dl-inline>dt::after {content: \":\\0020\"; padding-right: .5ex}\n",
       ".dl-inline>dt:not(:first-of-type) {padding-left: .5ex}\n",
       "</style><dl class=dl-inline><dt>Murder</dt><dd>7.788</dd><dt>Assault</dt><dd>170.76</dd><dt>UrbanPop</dt><dd>65.54</dd><dt>Rape</dt><dd>21.232</dd></dl>\n"
      ],
      "text/latex": [
       "\\begin{description*}\n",
       "\\item[Murder] 7.788\n",
       "\\item[Assault] 170.76\n",
       "\\item[UrbanPop] 65.54\n",
       "\\item[Rape] 21.232\n",
       "\\end{description*}\n"
      ],
      "text/markdown": [
       "Murder\n",
       ":   7.788Assault\n",
       ":   170.76UrbanPop\n",
       ":   65.54Rape\n",
       ":   21.232\n",
       "\n"
      ],
      "text/plain": [
       "  Murder  Assault UrbanPop     Rape \n",
       "   7.788  170.760   65.540   21.232 "
      ]
     },
     "metadata": {},
     "output_type": "display_data"
    },
    {
     "data": {
      "text/html": [
       "<style>\n",
       ".dl-inline {width: auto; margin:0; padding: 0}\n",
       ".dl-inline>dt, .dl-inline>dd {float: none; width: auto; display: inline-block}\n",
       ".dl-inline>dt::after {content: \":\\0020\"; padding-right: .5ex}\n",
       ".dl-inline>dt:not(:first-of-type) {padding-left: .5ex}\n",
       "</style><dl class=dl-inline><dt>Murder</dt><dd>4.35550976420929</dd><dt>Assault</dt><dd>83.3376608400171</dd><dt>UrbanPop</dt><dd>14.4747634008368</dd><dt>Rape</dt><dd>9.36638453105965</dd></dl>\n"
      ],
      "text/latex": [
       "\\begin{description*}\n",
       "\\item[Murder] 4.35550976420929\n",
       "\\item[Assault] 83.3376608400171\n",
       "\\item[UrbanPop] 14.4747634008368\n",
       "\\item[Rape] 9.36638453105965\n",
       "\\end{description*}\n"
      ],
      "text/markdown": [
       "Murder\n",
       ":   4.35550976420929Assault\n",
       ":   83.3376608400171UrbanPop\n",
       ":   14.4747634008368Rape\n",
       ":   9.36638453105965\n",
       "\n"
      ],
      "text/plain": [
       "   Murder   Assault  UrbanPop      Rape \n",
       " 4.355510 83.337661 14.474763  9.366385 "
      ]
     },
     "metadata": {},
     "output_type": "display_data"
    },
    {
     "data": {
      "text/html": [
       "<table class=\"dataframe\">\n",
       "<caption>A matrix: 4 × 4 of type dbl</caption>\n",
       "<thead>\n",
       "\t<tr><th></th><th scope=col>PC1</th><th scope=col>PC2</th><th scope=col>PC3</th><th scope=col>PC4</th></tr>\n",
       "</thead>\n",
       "<tbody>\n",
       "\t<tr><th scope=row>Murder</th><td>-0.5358995</td><td>-0.4181809</td><td> 0.3412327</td><td> 0.64922780</td></tr>\n",
       "\t<tr><th scope=row>Assault</th><td>-0.5831836</td><td>-0.1879856</td><td> 0.2681484</td><td>-0.74340748</td></tr>\n",
       "\t<tr><th scope=row>UrbanPop</th><td>-0.2781909</td><td> 0.8728062</td><td> 0.3780158</td><td> 0.13387773</td></tr>\n",
       "\t<tr><th scope=row>Rape</th><td>-0.5434321</td><td> 0.1673186</td><td>-0.8177779</td><td> 0.08902432</td></tr>\n",
       "</tbody>\n",
       "</table>\n"
      ],
      "text/latex": [
       "A matrix: 4 × 4 of type dbl\n",
       "\\begin{tabular}{r|llll}\n",
       "  & PC1 & PC2 & PC3 & PC4\\\\\n",
       "\\hline\n",
       "\tMurder & -0.5358995 & -0.4181809 &  0.3412327 &  0.64922780\\\\\n",
       "\tAssault & -0.5831836 & -0.1879856 &  0.2681484 & -0.74340748\\\\\n",
       "\tUrbanPop & -0.2781909 &  0.8728062 &  0.3780158 &  0.13387773\\\\\n",
       "\tRape & -0.5434321 &  0.1673186 & -0.8177779 &  0.08902432\\\\\n",
       "\\end{tabular}\n"
      ],
      "text/markdown": [
       "\n",
       "A matrix: 4 × 4 of type dbl\n",
       "\n",
       "| <!--/--> | PC1 | PC2 | PC3 | PC4 |\n",
       "|---|---|---|---|---|\n",
       "| Murder | -0.5358995 | -0.4181809 |  0.3412327 |  0.64922780 |\n",
       "| Assault | -0.5831836 | -0.1879856 |  0.2681484 | -0.74340748 |\n",
       "| UrbanPop | -0.2781909 |  0.8728062 |  0.3780158 |  0.13387773 |\n",
       "| Rape | -0.5434321 |  0.1673186 | -0.8177779 |  0.08902432 |\n",
       "\n"
      ],
      "text/plain": [
       "         PC1        PC2        PC3        PC4        \n",
       "Murder   -0.5358995 -0.4181809  0.3412327  0.64922780\n",
       "Assault  -0.5831836 -0.1879856  0.2681484 -0.74340748\n",
       "UrbanPop -0.2781909  0.8728062  0.3780158  0.13387773\n",
       "Rape     -0.5434321  0.1673186 -0.8177779  0.08902432"
      ]
     },
     "metadata": {},
     "output_type": "display_data"
    }
   ],
   "source": [
    "# very different mean \n",
    "\n",
    "# variance \n",
    "apply(USArrests, 2, var)\n",
    "# variance is also very different \n",
    "\n",
    "# We need to scale because UrbanPop measures % of the population in each state living in urban area, \n",
    "# this is not comparable to number of assaults per 100,000 individuals. \n",
    "# If we don't scale the principal components we observed would be driven by Assault : largest mean and variance. \n",
    "\n",
    "pr.out <- prcomp(USArrests, scale =TRUE)\n",
    "\n",
    "# prcomp() centers variable to mean zero, but by using scale = TRUE, we scale the variables to have SD : 1 \n",
    "\n",
    "names(pr.out)\n",
    "\n",
    "# center and scale corresponds to mean and SD of the variables that were used for scaling prior to implementing PCA\n",
    "# rotation : provide PC loadings, each column contain corresponding PC loadeing vectors. \n",
    "\n",
    "pr.out$center\n",
    "pr.out$scale\n",
    "pr.out$rotation\n",
    "\n",
    "# we seee 4 distinct Pricipal components. \n",
    "# there are general min(n-1, p) informative PC in dataset with n obs and p variables."
   ]
  },
  {
   "cell_type": "code",
   "execution_count": null,
   "id": "9b875c5c-e235-4775-9014-d387f2352ba9",
   "metadata": {},
   "outputs": [],
   "source": []
  }
 ],
 "metadata": {
  "kernelspec": {
   "display_name": "R",
   "language": "R",
   "name": "ir"
  },
  "language_info": {
   "codemirror_mode": "r",
   "file_extension": ".r",
   "mimetype": "text/x-r-source",
   "name": "R",
   "pygments_lexer": "r",
   "version": "4.4.2"
  }
 },
 "nbformat": 4,
 "nbformat_minor": 5
}
